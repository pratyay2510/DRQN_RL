{
 "cells": [
  {
   "cell_type": "markdown",
   "metadata": {},
   "source": [
    "# Importing functions and packages"
   ]
  },
  {
   "cell_type": "code",
   "execution_count": null,
   "metadata": {},
   "outputs": [],
   "source": [
    "import gym\n",
    "from DQN import DQNAgent, train_dqn\n",
    "import warnings\n",
    "warnings.filterwarnings(\"ignore\")\n"
   ]
  },
  {
   "cell_type": "markdown",
   "metadata": {},
   "source": [
    "## Hyperparameters, environment and training"
   ]
  },
  {
   "cell_type": "code",
   "execution_count": null,
   "metadata": {},
   "outputs": [],
   "source": [
    "#define environment\n",
    "env = gym.make(\"ALE/Breakout-v5\", render_mode=\"rgb_array\")\n",
    "\n",
    "obs = env.reset()\n",
    "\n",
    "# Inspect the observation\n",
    "print(\"Observation shape:\", obs.shape)\n",
    "print(\"Observation dtype:\", obs.dtype)\n",
    "\n",
    "#Inspect action space\n",
    "num_actions = env.action_space.n\n",
    "print(\"Number of possible actions:\", num_actions)\n",
    "\n",
    "\n",
    "#Now we define the hyper parameters:\n",
    "learning_rate = 0.0001\n",
    "gamma = 0.99                      # Discount factor\n",
    "epsilon = 1.0                     # Initial exploration rate\n",
    "epsilon_decay = 0.995             # Epsilon decay rate\n",
    "epsilon_min = 0.1                 # Minimum epsilon\n",
    "batch_size = 64                   # Batch size for training\n",
    "target_update_frequency = 1000    # Update target network after these many steps\n",
    "max_episodes = 1000               # Maximum number of episodes\n",
    "max_steps_per_episode = 10000     # Maximum steps per episode\n",
    "csv_filename = \"dqn_breakout_skip_4frames.csv\"        # CSV file to store the rewards\n",
    "n_frames = 4                      # Number of frames stacked in input \n",
    "\n",
    "# Initialize agent\n",
    "input_shape = (n_frames, 84, 84)  \n",
    "num_actions = env.action_space.n\n",
    "agent = DQNAgent(env, input_shape, num_actions, n_frames=n_frames)\n",
    "\n",
    "# Train the agent\n",
    "num_episodes = 500\n",
    "max_steps_per_episode = 10000\n",
    "train_dqn(agent, num_episodes, max_steps_per_episode, csv_filename=csv_filename)\n",
    "\n"
   ]
  }
 ],
 "metadata": {
  "kernelspec": {
   "display_name": "RL",
   "language": "python",
   "name": "python3"
  },
  "language_info": {
   "codemirror_mode": {
    "name": "ipython",
    "version": 3
   },
   "file_extension": ".py",
   "mimetype": "text/x-python",
   "name": "python",
   "nbconvert_exporter": "python",
   "pygments_lexer": "ipython3",
   "version": "3.10.12"
  }
 },
 "nbformat": 4,
 "nbformat_minor": 4
}
