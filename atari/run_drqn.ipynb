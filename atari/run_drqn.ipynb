{
 "cells": [
  {
   "cell_type": "markdown",
   "metadata": {},
   "source": [
    "## Imports"
   ]
  },
  {
   "cell_type": "code",
   "execution_count": null,
   "metadata": {},
   "outputs": [
    {
     "name": "stdout",
     "output_type": "stream",
     "text": [
      "cpu\n"
     ]
    }
   ],
   "source": [
    "from DRQN import initialize_model, train, Wrapper\n",
    "import gym\n",
    "import pandas as pd\n",
    "import matplotlib.pyplot as plt"
   ]
  },
  {
   "cell_type": "markdown",
   "metadata": {},
   "source": [
    "## Defining hyperparameters and training"
   ]
  },
  {
   "cell_type": "code",
   "execution_count": null,
   "metadata": {},
   "outputs": [],
   "source": [
    "# #define environment\n",
    "envo = gym.make(\"ALE/Assault-v5\", render_mode=\"rgb_array\")\n",
    "\n",
    "#Creating partially observable environment\n",
    "env = Wrapper(envo, mask_prob=0.0)\n",
    "\n",
    "# model params\n",
    "batch_size = 64\n",
    "ep_window_size = 10         #The number of past experiences to remember\n",
    "epsilon_decay = 0.99\n",
    "\n",
    "# # train params\n",
    "num_of_episodes = 1000\n",
    "time_step_size = 5000       #Max step size per episode\n",
    "window_size = ep_window_size\n",
    "show_gifs = True\n",
    "gif_show_frequency = 250\n",
    "\n",
    "csvfile_name = 'assault_noskip.csv'    #Define the name of the csv file to log results\n",
    "epMem, model, agent = initialize_model(batch_size=batch_size, ep_window_size=ep_window_size)                                        # Initialising the model agent and env\n",
    "train(env, agent, epMem, epsilon_decay, num_of_episodes, time_step_size, window_size, show_gifs, gif_show_frequency, csvfile_name)  # Training the agent\n",
    "\n"
   ]
  }
 ],
 "metadata": {
  "kernelspec": {
   "display_name": "Python 3",
   "language": "python",
   "name": "python3"
  },
  "language_info": {
   "codemirror_mode": {
    "name": "ipython",
    "version": 3
   },
   "file_extension": ".py",
   "mimetype": "text/x-python",
   "name": "python",
   "nbconvert_exporter": "python",
   "pygments_lexer": "ipython3",
   "version": "3.12.7"
  }
 },
 "nbformat": 4,
 "nbformat_minor": 2
}
