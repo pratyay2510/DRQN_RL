{
 "cells": [
  {
   "cell_type": "markdown",
   "metadata": {},
   "source": [
    "## Imports"
   ]
  },
  {
   "cell_type": "code",
   "execution_count": null,
   "metadata": {},
   "outputs": [],
   "source": [
    "from DRQN import initialize_model, train, Wrapper\n",
    "import gym"
   ]
  },
  {
   "cell_type": "markdown",
   "metadata": {},
   "source": [
    "## Training"
   ]
  },
  {
   "cell_type": "code",
   "execution_count": null,
   "metadata": {},
   "outputs": [],
   "source": [
    "envo = gym.make(\"ALE/Assault-v5\", render_mode=\"rgb_array\")  # Define the environment\n",
    "env = Wrapper(envo, mask_prob=0.0)                          # Create partial observability\n",
    "\n",
    "num_actions = env.action_space.n                            # Number of actions\n",
    "\n",
    "# model params                                              \n",
    "batch_size = 64                                             # Batch size\n",
    "ep_window_size = 10                                         # The number of past experiences to remember\n",
    "epsilon_decay = 0.99                                        # The epsilone decay factor\n",
    "\n",
    "# # train params\n",
    "num_of_episodes = 500                                       # Number of episodes to train\n",
    "time_step_size = 1000                                       # Max step size per episode\n",
    "show_gifs = True                                            # Whether to display the gifs during training or not\n",
    "gif_show_frequency = 100                                    # Display frequency of gifs\n",
    "\n",
    "csvfile_name = 'name.csv'                                   # Name of csv file to store reward data\n",
    "\n",
    "# Initialising the model, agent and the episode memory\n",
    "epMem, model, agent = initialize_model(num_actions, batch_size=batch_size, ep_window_size=ep_window_size)\n",
    "\n",
    "# Training the agent\n",
    "train(env, agent, epMem, epsilon_decay, num_of_episodes, time_step_size, ep_window_size, show_gifs, gif_show_frequency, csvfile_name)\n"
   ]
  },
  {
   "cell_type": "code",
   "execution_count": null,
   "metadata": {},
   "outputs": [],
   "source": []
  }
 ],
 "metadata": {
  "kernelspec": {
   "display_name": "dtqn",
   "language": "python",
   "name": "python3"
  },
  "language_info": {
   "codemirror_mode": {
    "name": "ipython",
    "version": 3
   },
   "file_extension": ".py",
   "mimetype": "text/x-python",
   "name": "python",
   "nbconvert_exporter": "python",
   "pygments_lexer": "ipython3",
   "version": "3.10.12"
  }
 },
 "nbformat": 4,
 "nbformat_minor": 2
}
